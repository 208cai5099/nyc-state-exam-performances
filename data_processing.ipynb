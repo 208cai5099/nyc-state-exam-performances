{
 "cells": [
  {
   "cell_type": "markdown",
   "id": "24e40e84-feed-484f-9eef-d55482165814",
   "metadata": {
    "id": "24e40e84-feed-484f-9eef-d55482165814"
   },
   "source": [
    "## Import"
   ]
  },
  {
   "cell_type": "code",
   "execution_count": null,
   "id": "6a63523d-292e-44d0-b1b8-97f3e37ace42",
   "metadata": {
    "executionInfo": {
     "elapsed": 833,
     "status": "ok",
     "timestamp": 1746070414704,
     "user": {
      "displayName": "Zhuo Biao Cai",
      "userId": "01870707890598286277"
     },
     "user_tz": 240
    },
    "id": "6a63523d-292e-44d0-b1b8-97f3e37ace42"
   },
   "outputs": [],
   "source": [
    "import pandas as pd\n",
    "import numpy as np"
   ]
  },
  {
   "cell_type": "markdown",
   "id": "8a7c25ce-39b7-46b8-b32d-42c02b45c8ba",
   "metadata": {
    "id": "8a7c25ce-39b7-46b8-b32d-42c02b45c8ba"
   },
   "source": [
    "## Helper Functions"
   ]
  },
  {
   "cell_type": "code",
   "execution_count": null,
   "id": "bd51876e-8f77-4b20-95e8-e6290f17454d",
   "metadata": {
    "executionInfo": {
     "elapsed": 14,
     "status": "ok",
     "timestamp": 1746070414720,
     "user": {
      "displayName": "Zhuo Biao Cai",
      "userId": "01870707890598286277"
     },
     "user_tz": 240
    },
    "id": "bd51876e-8f77-4b20-95e8-e6290f17454d"
   },
   "outputs": [],
   "source": [
    "# formats the column names in snakecase style\n",
    "def snakecase_cols(df):\n",
    "\n",
    "    new_cols = [\"_\".join(col.lower().split(\" \")) for col in df.columns]\n",
    "    df.columns = new_cols\n",
    "    return df\n",
    "\n",
    "# removes rows where the data have been redacted\n",
    "def remove_redacted(df, columns):\n",
    "\n",
    "    non_redacted_mask = None\n",
    "\n",
    "    for col in columns:\n",
    "        if non_redacted_mask is None:\n",
    "            non_redacted_mask = ~(df[col] == \"s\")\n",
    "        else:\n",
    "            non_redacted_mask = non_redacted_mask & ~(df[col] == \"s\")\n",
    "\n",
    "    return df[non_redacted_mask]\n",
    "\n",
    "# processes the provided df into desired format and removes unneeded data\n",
    "def process_data(df, sheet=None):\n",
    "\n",
    "    # turn column names to snakecase\n",
    "    df = snakecase_cols(df)\n",
    "\n",
    "    # drop the unneeded columns\n",
    "    df = df.drop(columns=[\"mean_scale_score\", \"number_tested\"])\n",
    "\n",
    "    # keep only desired categories\n",
    "    if sheet == \"SWD\":\n",
    "      df = df[df[\"category\"] == \"SWD\"]\n",
    "    elif sheet == \"ELL\":\n",
    "      df = df[df[\"category\"] == \"Current ELL\"]\n",
    "\n",
    "    # drop the rows showing All Grades\n",
    "    df = df[df[\"grade\"] != \"All Grades\"]\n",
    "\n",
    "    # remove redacted rows\n",
    "    df = remove_redacted(df, [\"#_level_1\", \"%_level_1\", \"#_level_2\", \"%_level_2\",\n",
    "                              \"#_level_3\", \"%_level_3\", \"#_level_4\", \"%_level_4\", \"#_level_3+4\", \"%_level_3+4\"])\n",
    "\n",
    "    # change the numerical columns to proper data types\n",
    "    df = df.astype({\"#_level_1\" : np.int32, \"%_level_1\" : np.float32,\n",
    "                    \"#_level_2\" : np.int32, \"%_level_2\" : np.float32, \"#_level_3\" : np.int32,\n",
    "                    \"%_level_3\" : np.float32, \"#_level_4\" : np.int32, \"%_level_4\" : np.float32,\n",
    "                    \"#_level_3+4\" : np.int32, \"%_level_3+4\" : np.float32\n",
    "                    })\n",
    "\n",
    "    # rename the columns\n",
    "    df = df.rename(columns={\"#_level_1\" : \"num_level_1\",\n",
    "                            \"%_level_1\" : \"percent_level_1\",\n",
    "                            \"#_level_2\" : \"num_level_2\",\n",
    "                            \"%_level_2\" : \"percent_level_2\",\n",
    "                            \"#_level_3\" : \"num_level_3\",\n",
    "                            \"%_level_3\" : \"percent_level_3\",\n",
    "                            \"#_level_4\" : \"num_level_4\",\n",
    "                            \"%_level_4\" : \"percent_level_4\",\n",
    "                            \"#_level_3+4\" : \"num_proficient\",\n",
    "                            \"%_level_3+4\" : \"percent_proficient\"\n",
    "                            })\n",
    "\n",
    "    # turn percentages to decimals\n",
    "    for col in df.columns:\n",
    "      if \"percent\" in col:\n",
    "        df[col] = df[col].apply(lambda value : value / 100)\n",
    "\n",
    "    # keep only the data from 2023 and 2024\n",
    "    df = df[(df[\"year\"] == 2023) | (df[\"year\"] == 2024)]\n",
    "\n",
    "    return df"
   ]
  },
  {
   "cell_type": "markdown",
   "id": "Y0j9AuIaZxSA",
   "metadata": {
    "id": "Y0j9AuIaZxSA"
   },
   "source": [
    "## Borough\n",
    "\n",
    "Process and reformat the performance data organized by borough."
   ]
  },
  {
   "cell_type": "markdown",
   "id": "ca79S6o7biiq",
   "metadata": {
    "id": "ca79S6o7biiq"
   },
   "source": [
    "### ELA"
   ]
  },
  {
   "cell_type": "code",
   "execution_count": null,
   "id": "OzTsrdOUZzPV",
   "metadata": {
    "executionInfo": {
     "elapsed": 9775,
     "status": "ok",
     "timestamp": 1746070424498,
     "user": {
      "displayName": "Zhuo Biao Cai",
      "userId": "01870707890598286277"
     },
     "user_tz": 240
    },
    "id": "OzTsrdOUZzPV"
   },
   "outputs": [],
   "source": [
    "boro_ela_all = pd.read_excel(\"FILEPATH\", sheet_name=\"ELA - All\")\n",
    "boro_ela_swd = pd.read_excel(\"FILEPATH\", sheet_name=\"ELA - SWD\")\n",
    "boro_ela_ell = pd.read_excel(\"FILEPATH\", sheet_name=\"ELA - ELL\")\n",
    "\n",
    "boro_ela_all = process_data(boro_ela_all)\n",
    "boro_ela_swd = process_data(boro_ela_swd, sheet=\"SWD\")\n",
    "boro_ela_ell = process_data(boro_ela_ell, sheet=\"ELL\")\n",
    "\n",
    "boro_ela = pd.concat([boro_ela_all, boro_ela_swd, boro_ela_ell], ignore_index=True)"
   ]
  },
  {
   "cell_type": "markdown",
   "id": "Ry7oEKP6blCQ",
   "metadata": {
    "id": "Ry7oEKP6blCQ"
   },
   "source": [
    "### Math"
   ]
  },
  {
   "cell_type": "code",
   "execution_count": null,
   "id": "JLgH73aVaIBf",
   "metadata": {
    "executionInfo": {
     "elapsed": 2738,
     "status": "ok",
     "timestamp": 1746070427240,
     "user": {
      "displayName": "Zhuo Biao Cai",
      "userId": "01870707890598286277"
     },
     "user_tz": 240
    },
    "id": "JLgH73aVaIBf"
   },
   "outputs": [],
   "source": [
    "boro_math_all = pd.read_excel(\"FILEPATH\", sheet_name=\"Math - All\")\n",
    "boro_math_swd = pd.read_excel(\"FILEPATH\", sheet_name=\"Math - SWD\")\n",
    "boro_math_ell = pd.read_excel(\"FILEPATH\", sheet_name=\"Math - ELL\")\n",
    "\n",
    "boro_math_all = process_data(boro_math_all)\n",
    "boro_math_swd = process_data(boro_math_swd, sheet=\"SWD\")\n",
    "boro_math_ell = process_data(boro_math_ell, sheet=\"ELL\")\n",
    "\n",
    "boro_math = pd.concat([boro_math_all, boro_math_swd, boro_math_ell], ignore_index=True)"
   ]
  },
  {
   "cell_type": "markdown",
   "id": "X5QaqZ7tbh4f",
   "metadata": {
    "id": "X5QaqZ7tbh4f"
   },
   "source": [
    "### ELA and Math"
   ]
  },
  {
   "cell_type": "code",
   "execution_count": null,
   "id": "ZWZkmfYNbf9D",
   "metadata": {
    "executionInfo": {
     "elapsed": 4,
     "status": "ok",
     "timestamp": 1746070427245,
     "user": {
      "displayName": "Zhuo Biao Cai",
      "userId": "01870707890598286277"
     },
     "user_tz": 240
    },
    "id": "ZWZkmfYNbf9D"
   },
   "outputs": [],
   "source": [
    "boro_ela[\"subject\"] = [\"ELA\" for i in range(boro_ela.shape[0])]\n",
    "boro_math[\"subject\"] = [\"Math\" for i in range(boro_math.shape[0])]\n",
    "\n",
    "boro_df = pd.concat([boro_ela, boro_math], ignore_index=True)\n",
    "boro_df = boro_df.sort_values(by=[\"borough\", \"subject\", \"category\", \"year\", \"grade\"], ignore_index=True)"
   ]
  },
  {
   "cell_type": "code",
   "execution_count": null,
   "id": "VNqDYXUQcI2t",
   "metadata": {
    "executionInfo": {
     "elapsed": 31,
     "status": "ok",
     "timestamp": 1746070427311,
     "user": {
      "displayName": "Zhuo Biao Cai",
      "userId": "01870707890598286277"
     },
     "user_tz": 240
    },
    "id": "VNqDYXUQcI2t"
   },
   "outputs": [],
   "source": [
    "# reorganize the df to have the percents and counts of each level as rows instead of columns\n",
    "new_format_dict = {\n",
    "    \"borough\" : [],\n",
    "    \"year\" : [],\n",
    "    \"subject\" : [],\n",
    "    \"category\" : [],\n",
    "    \"grade\" : [],\n",
    "    \"level\" : [],\n",
    "    \"num_level\" : [],\n",
    "    \"percent_level\" : [],\n",
    "}\n",
    "\n",
    "for i in boro_df.index:\n",
    "  boro = boro_df.loc[i, \"borough\"]\n",
    "  year = boro_df.loc[i, \"year\"]\n",
    "  subject = boro_df.loc[i, \"subject\"]\n",
    "  category = boro_df.loc[i, \"category\"]\n",
    "  grade = boro_df.loc[i, \"grade\"]\n",
    "\n",
    "  for lvl in [\"level_1\", \"level_2\", \"level_3\", \"level_4\", \"proficient\"]:\n",
    "\n",
    "    new_format_dict[\"borough\"].append(boro)\n",
    "    new_format_dict[\"year\"].append(year)\n",
    "    new_format_dict[\"subject\"].append(subject)\n",
    "    new_format_dict[\"category\"].append(category)\n",
    "    new_format_dict[\"level\"].append(\" \".join(lvl.capitalize().split(\"_\")))\n",
    "    new_format_dict[\"grade\"].append(grade)\n",
    "\n",
    "    for metric in [\"num\", \"percent\"]:\n",
    "\n",
    "      col = f\"{metric}_{lvl}\"\n",
    "      value = boro_df.loc[i, col]\n",
    "\n",
    "      if \"num\" in col:\n",
    "        new_format_dict[\"num_level\"].append(value)\n",
    "      else:\n",
    "        new_format_dict[\"percent_level\"].append(value)\n",
    "\n",
    "boro_df = pd.DataFrame(new_format_dict)\n",
    "boro_df[\"id\"] = [i for i in range(boro_df.shape[0])]"
   ]
  },
  {
   "cell_type": "code",
   "execution_count": null,
   "id": "2j5LCzfVc22d",
   "metadata": {
    "colab": {
     "base_uri": "https://localhost:8080/",
     "height": 363
    },
    "executionInfo": {
     "elapsed": 73,
     "status": "ok",
     "timestamp": 1746070427387,
     "user": {
      "displayName": "Zhuo Biao Cai",
      "userId": "01870707890598286277"
     },
     "user_tz": 240
    },
    "id": "2j5LCzfVc22d",
    "outputId": "d1643b3b-b5c1-4e4d-ce8c-05c53d86a6e2"
   },
   "outputs": [],
   "source": [
    "boro_df.head(10)"
   ]
  },
  {
   "cell_type": "markdown",
   "id": "1592b86c-d4a8-46d9-a7c8-319c9d91df09",
   "metadata": {
    "id": "1592b86c-d4a8-46d9-a7c8-319c9d91df09"
   },
   "source": [
    "## District\n",
    "\n",
    "Process and reformat the performance data organized by school district."
   ]
  },
  {
   "cell_type": "markdown",
   "id": "af5d838b-2e6c-4030-b87a-ee8614ea2092",
   "metadata": {
    "id": "af5d838b-2e6c-4030-b87a-ee8614ea2092"
   },
   "source": [
    "### ELA"
   ]
  },
  {
   "cell_type": "code",
   "execution_count": null,
   "id": "4e9955dc-b56b-412d-9ce1-e8491601f21a",
   "metadata": {
    "executionInfo": {
     "elapsed": 6235,
     "status": "ok",
     "timestamp": 1746070433623,
     "user": {
      "displayName": "Zhuo Biao Cai",
      "userId": "01870707890598286277"
     },
     "user_tz": 240
    },
    "id": "4e9955dc-b56b-412d-9ce1-e8491601f21a"
   },
   "outputs": [],
   "source": [
    "district_ela_all = pd.read_excel(\"FILEPATH\", sheet_name=\"ELA - All\")\n",
    "district_ela_swd = pd.read_excel(\"FILEPATH\", sheet_name=\"ELA - SWD\")\n",
    "district_ela_ell = pd.read_excel(\"FILEPATH\", sheet_name=\"ELA - ELL\")\n",
    "\n",
    "district_ela_all = process_data(district_ela_all)\n",
    "district_ela_swd = process_data(district_ela_swd, sheet=\"SWD\")\n",
    "district_ela_ell = process_data(district_ela_ell, sheet=\"ELL\")\n",
    "\n",
    "district_ela = pd.concat([district_ela_all, district_ela_swd, district_ela_ell], ignore_index=True)"
   ]
  },
  {
   "cell_type": "markdown",
   "id": "56e3751e-134c-4fab-950b-0163fc502725",
   "metadata": {
    "id": "56e3751e-134c-4fab-950b-0163fc502725"
   },
   "source": [
    "### Math"
   ]
  },
  {
   "cell_type": "code",
   "execution_count": null,
   "id": "b6b11d2e-5442-4629-b877-c88ed416c206",
   "metadata": {
    "executionInfo": {
     "elapsed": 7820,
     "status": "ok",
     "timestamp": 1746070441441,
     "user": {
      "displayName": "Zhuo Biao Cai",
      "userId": "01870707890598286277"
     },
     "user_tz": 240
    },
    "id": "b6b11d2e-5442-4629-b877-c88ed416c206"
   },
   "outputs": [],
   "source": [
    "district_math_all = pd.read_excel(\"FILEPATH\", sheet_name=\"Math - All\")\n",
    "district_math_swd = pd.read_excel(\"FILEPATH\", sheet_name=\"Math - SWD\")\n",
    "district_math_ell = pd.read_excel(\"FILEPATH\", sheet_name=\"Math - ELL\")\n",
    "\n",
    "district_math_all = process_data(district_math_all)\n",
    "district_math_swd = process_data(district_math_swd, sheet=\"SWD\")\n",
    "district_math_ell = process_data(district_math_ell, sheet=\"ELL\")\n",
    "\n",
    "district_math = pd.concat([district_math_all, district_math_swd, district_math_ell], ignore_index=True)"
   ]
  },
  {
   "cell_type": "markdown",
   "id": "5e1341cb-3556-4824-9471-1ce23093772b",
   "metadata": {
    "id": "5e1341cb-3556-4824-9471-1ce23093772b"
   },
   "source": [
    "### ELA and Math"
   ]
  },
  {
   "cell_type": "code",
   "execution_count": null,
   "id": "71a966ad-af3a-441a-8559-895cd0ea526e",
   "metadata": {
    "executionInfo": {
     "elapsed": 7,
     "status": "ok",
     "timestamp": 1746070441450,
     "user": {
      "displayName": "Zhuo Biao Cai",
      "userId": "01870707890598286277"
     },
     "user_tz": 240
    },
    "id": "71a966ad-af3a-441a-8559-895cd0ea526e"
   },
   "outputs": [],
   "source": [
    "district_ela[\"subject\"] = [\"ELA\" for i in range(district_ela.shape[0])]\n",
    "district_math[\"subject\"] = [\"Math\" for i in range(district_math.shape[0])]\n",
    "\n",
    "districts_df = pd.concat([district_ela, district_math], ignore_index=True)\n",
    "districts_df = districts_df.sort_values(by=[\"district\", \"subject\", \"category\", \"year\", \"grade\"], ignore_index=True)"
   ]
  },
  {
   "cell_type": "code",
   "execution_count": null,
   "id": "7cad9343-0ff6-45c3-9553-7f0114eb983c",
   "metadata": {
    "colab": {
     "base_uri": "https://localhost:8080/",
     "height": 0
    },
    "executionInfo": {
     "elapsed": 41,
     "status": "ok",
     "timestamp": 1746070441504,
     "user": {
      "displayName": "Zhuo Biao Cai",
      "userId": "01870707890598286277"
     },
     "user_tz": 240
    },
    "id": "7cad9343-0ff6-45c3-9553-7f0114eb983c",
    "outputId": "c953124c-a76b-4ad4-d8be-dc9a41195ea8"
   },
   "outputs": [],
   "source": [
    "districts_df.head()"
   ]
  },
  {
   "cell_type": "code",
   "execution_count": null,
   "id": "ojnjK4w9RqOq",
   "metadata": {
    "executionInfo": {
     "elapsed": 349,
     "status": "ok",
     "timestamp": 1746070441855,
     "user": {
      "displayName": "Zhuo Biao Cai",
      "userId": "01870707890598286277"
     },
     "user_tz": 240
    },
    "id": "ojnjK4w9RqOq"
   },
   "outputs": [],
   "source": [
    "# reorganize the df to have the percents and counts of each level as rows instead of columns\n",
    "new_format_dict = {\n",
    "    \"district\" : [],\n",
    "    \"year\" : [],\n",
    "    \"subject\" : [],\n",
    "    \"category\" : [],\n",
    "    \"grade\" : [],\n",
    "    \"level\" : [],\n",
    "    \"num_level\" : [],\n",
    "    \"percent_level\" : []\n",
    "}\n",
    "\n",
    "for i in districts_df.index:\n",
    "  district = districts_df.loc[i, \"district\"]\n",
    "  year = districts_df.loc[i, \"year\"]\n",
    "  subject = districts_df.loc[i, \"subject\"]\n",
    "  category = districts_df.loc[i, \"category\"]\n",
    "  grade = districts_df.loc[i, \"grade\"]\n",
    "\n",
    "  for lvl in [\"level_1\", \"level_2\", \"level_3\", \"level_4\", \"proficient\"]:\n",
    "\n",
    "    new_format_dict[\"district\"].append(district)\n",
    "    new_format_dict[\"year\"].append(year)\n",
    "    new_format_dict[\"subject\"].append(subject)\n",
    "    new_format_dict[\"category\"].append(category)\n",
    "    new_format_dict[\"level\"].append(\" \".join(lvl.capitalize().split(\"_\")))\n",
    "    new_format_dict[\"grade\"].append(grade)\n",
    "\n",
    "    for metric in [\"num\", \"percent\"]:\n",
    "\n",
    "      col = f\"{metric}_{lvl}\"\n",
    "      value = districts_df.loc[i, col]\n",
    "\n",
    "      if \"num\" in col:\n",
    "        new_format_dict[\"num_level\"].append(value)\n",
    "      else:\n",
    "        new_format_dict[\"percent_level\"].append(value)\n",
    "\n",
    "districts_df = pd.DataFrame(new_format_dict)\n",
    "districts_df[\"id\"] = [i for i in range(districts_df.shape[0])]"
   ]
  },
  {
   "cell_type": "code",
   "execution_count": null,
   "id": "8zG-8dkMTl2_",
   "metadata": {
    "colab": {
     "base_uri": "https://localhost:8080/",
     "height": 557
    },
    "executionInfo": {
     "elapsed": 21,
     "status": "ok",
     "timestamp": 1746070441874,
     "user": {
      "displayName": "Zhuo Biao Cai",
      "userId": "01870707890598286277"
     },
     "user_tz": 240
    },
    "id": "8zG-8dkMTl2_",
    "outputId": "d2ad9654-3097-4513-b190-bd11887270b3"
   },
   "outputs": [],
   "source": [
    "districts_df.head(10)"
   ]
  },
  {
   "cell_type": "markdown",
   "id": "b13c02ef-5c7c-4e62-89af-968dfb9e3fb7",
   "metadata": {
    "id": "b13c02ef-5c7c-4e62-89af-968dfb9e3fb7"
   },
   "source": [
    "## School-Based\n",
    "\n",
    "Process and reformat the performance data organized by school."
   ]
  },
  {
   "cell_type": "markdown",
   "id": "03f1f1b3-b740-4729-9973-987fb4a813de",
   "metadata": {
    "id": "03f1f1b3-b740-4729-9973-987fb4a813de"
   },
   "source": [
    "### ELA"
   ]
  },
  {
   "cell_type": "markdown",
   "id": "21c1f3f5-8e0a-4fba-857d-f9e5919c78ff",
   "metadata": {
    "id": "21c1f3f5-8e0a-4fba-857d-f9e5919c78ff"
   },
   "source": [
    "#### Non-Charter Schools"
   ]
  },
  {
   "cell_type": "code",
   "execution_count": null,
   "id": "83ccc756-5365-4ee4-bc2e-366b8e1f719f",
   "metadata": {
    "executionInfo": {
     "elapsed": 33020,
     "status": "ok",
     "timestamp": 1746070474895,
     "user": {
      "displayName": "Zhuo Biao Cai",
      "userId": "01870707890598286277"
     },
     "user_tz": 240
    },
    "id": "83ccc756-5365-4ee4-bc2e-366b8e1f719f"
   },
   "outputs": [],
   "source": [
    "non_charter_ela_all = pd.read_excel(\"FILEPATH\", sheet_name=\"ELA - All\")\n",
    "non_charter_ela_swd = pd.read_excel(\"FILEPATH\", sheet_name=\"ELA - SWD\")\n",
    "non_charter_ela_ell = pd.read_excel(\"FILEPATH\", sheet_name=\"ELA - ELL\")\n",
    "\n",
    "non_charter_ela_all = process_data(non_charter_ela_all)\n",
    "non_charter_ela_swd = process_data(non_charter_ela_swd, sheet=\"SWD\")\n",
    "non_charter_ela_ell = process_data(non_charter_ela_ell, sheet=\"ELL\")"
   ]
  },
  {
   "cell_type": "markdown",
   "id": "3d7e4ff4-b8fd-429a-8f6d-d44572e7b384",
   "metadata": {
    "id": "3d7e4ff4-b8fd-429a-8f6d-d44572e7b384"
   },
   "source": [
    "#### Charter Schools"
   ]
  },
  {
   "cell_type": "code",
   "execution_count": null,
   "id": "db25dba8-1d57-4687-9f95-c1b1d6d63b5f",
   "metadata": {
    "executionInfo": {
     "elapsed": 2079,
     "status": "ok",
     "timestamp": 1746070476970,
     "user": {
      "displayName": "Zhuo Biao Cai",
      "userId": "01870707890598286277"
     },
     "user_tz": 240
    },
    "id": "db25dba8-1d57-4687-9f95-c1b1d6d63b5f"
   },
   "outputs": [],
   "source": [
    "charter_ela_all = pd.read_excel(\"FILEPATH\", sheet_name=\"ELA\")\n",
    "charter_ela_all = process_data(charter_ela_all)"
   ]
  },
  {
   "cell_type": "markdown",
   "id": "6da40f23-259d-424a-86dc-9b69b37badec",
   "metadata": {
    "id": "6da40f23-259d-424a-86dc-9b69b37badec"
   },
   "source": [
    "#### Concat Together"
   ]
  },
  {
   "cell_type": "code",
   "execution_count": null,
   "id": "c4b02651-98f7-4625-ad11-932e6a46276b",
   "metadata": {
    "executionInfo": {
     "elapsed": 41,
     "status": "ok",
     "timestamp": 1746070476971,
     "user": {
      "displayName": "Zhuo Biao Cai",
      "userId": "01870707890598286277"
     },
     "user_tz": 240
    },
    "id": "c4b02651-98f7-4625-ad11-932e6a46276b"
   },
   "outputs": [],
   "source": [
    "schools_ela = pd.concat([non_charter_ela_all, non_charter_ela_swd, non_charter_ela_ell, charter_ela_all], ignore_index=True)"
   ]
  },
  {
   "cell_type": "markdown",
   "id": "f2f9eaae-4a8e-4317-a229-78dfe77249be",
   "metadata": {
    "id": "f2f9eaae-4a8e-4317-a229-78dfe77249be"
   },
   "source": [
    "### Math"
   ]
  },
  {
   "cell_type": "markdown",
   "id": "5b372d91-fd73-41c3-9a03-e1dcb2188af8",
   "metadata": {
    "id": "5b372d91-fd73-41c3-9a03-e1dcb2188af8"
   },
   "source": [
    "#### Non-Charter Schools"
   ]
  },
  {
   "cell_type": "code",
   "execution_count": null,
   "id": "ea5b683e-14aa-40a8-9581-97e63777dbdd",
   "metadata": {
    "executionInfo": {
     "elapsed": 30159,
     "status": "ok",
     "timestamp": 1746070507127,
     "user": {
      "displayName": "Zhuo Biao Cai",
      "userId": "01870707890598286277"
     },
     "user_tz": 240
    },
    "id": "ea5b683e-14aa-40a8-9581-97e63777dbdd"
   },
   "outputs": [],
   "source": [
    "non_charter_math_all = pd.read_excel(\"FILEPATH\", sheet_name=\"Math - All\")\n",
    "non_charter_math_swd = pd.read_excel(\"FILEPATH\", sheet_name=\"Math - SWD\")\n",
    "non_charter_math_ell = pd.read_excel(\"FILEPATH\", sheet_name=\"Math - ELL\")\n",
    "\n",
    "non_charter_math_all = process_data(non_charter_math_all)\n",
    "non_charter_math_swd = process_data(non_charter_math_swd, sheet=\"SWD\")\n",
    "non_charter_math_ell = process_data(non_charter_math_ell, sheet=\"ELL\")"
   ]
  },
  {
   "cell_type": "markdown",
   "id": "9dd2a17c-11ef-4f1d-b52e-4ca694ad8969",
   "metadata": {
    "id": "9dd2a17c-11ef-4f1d-b52e-4ca694ad8969"
   },
   "source": [
    "#### Charter Schools"
   ]
  },
  {
   "cell_type": "code",
   "execution_count": null,
   "id": "d35a60aa-69dd-4cc9-964f-7507f5ef2fe3",
   "metadata": {
    "executionInfo": {
     "elapsed": 2836,
     "status": "ok",
     "timestamp": 1746070509950,
     "user": {
      "displayName": "Zhuo Biao Cai",
      "userId": "01870707890598286277"
     },
     "user_tz": 240
    },
    "id": "d35a60aa-69dd-4cc9-964f-7507f5ef2fe3"
   },
   "outputs": [],
   "source": [
    "charter_math_all = pd.read_excel(\"FILEPATH\", sheet_name=\"Math\")\n",
    "charter_math_all = process_data(charter_math_all)"
   ]
  },
  {
   "cell_type": "markdown",
   "id": "5754df40-3431-41a2-8096-c8deff441205",
   "metadata": {
    "id": "5754df40-3431-41a2-8096-c8deff441205"
   },
   "source": [
    "#### Concat Together"
   ]
  },
  {
   "cell_type": "code",
   "execution_count": null,
   "id": "cf8952e0-95d7-48ad-b2b5-e080724d59ce",
   "metadata": {
    "executionInfo": {
     "elapsed": 16,
     "status": "ok",
     "timestamp": 1746070509967,
     "user": {
      "displayName": "Zhuo Biao Cai",
      "userId": "01870707890598286277"
     },
     "user_tz": 240
    },
    "id": "cf8952e0-95d7-48ad-b2b5-e080724d59ce"
   },
   "outputs": [],
   "source": [
    "schools_math = pd.concat([non_charter_math_all, non_charter_math_swd, non_charter_math_ell, charter_math_all], ignore_index=True)"
   ]
  },
  {
   "cell_type": "markdown",
   "id": "32c04297-145f-4ce8-bbd3-4378f7c7bbc6",
   "metadata": {
    "id": "32c04297-145f-4ce8-bbd3-4378f7c7bbc6"
   },
   "source": [
    "### ELA and Math"
   ]
  },
  {
   "cell_type": "code",
   "execution_count": null,
   "id": "aff0290d-4cf7-411d-80ef-6a880d8c6bf7",
   "metadata": {
    "executionInfo": {
     "elapsed": 3,
     "status": "ok",
     "timestamp": 1746070509971,
     "user": {
      "displayName": "Zhuo Biao Cai",
      "userId": "01870707890598286277"
     },
     "user_tz": 240
    },
    "id": "aff0290d-4cf7-411d-80ef-6a880d8c6bf7"
   },
   "outputs": [],
   "source": [
    "schools_ela[\"subject\"] = [\"ELA\" for i in range(schools_ela.shape[0])]\n",
    "schools_math[\"subject\"] = [\"Math\" for i in range(schools_math.shape[0])]"
   ]
  },
  {
   "cell_type": "code",
   "execution_count": null,
   "id": "38d83554-be02-4815-9803-31c1c373fefb",
   "metadata": {
    "executionInfo": {
     "elapsed": 77,
     "status": "ok",
     "timestamp": 1746070510049,
     "user": {
      "displayName": "Zhuo Biao Cai",
      "userId": "01870707890598286277"
     },
     "user_tz": 240
    },
    "id": "38d83554-be02-4815-9803-31c1c373fefb"
   },
   "outputs": [],
   "source": [
    "schools_df = pd.concat([schools_ela, schools_math], ignore_index=True)\n",
    "schools_df[\"district\"] = schools_df[\"dbn\"].apply(lambda dbn : int(dbn[:2]))\n",
    "schools_df = schools_df.sort_values(by=[\"district\", \"dbn\", \"school_name\", \"subject\", \"category\", \"year\", \"grade\"], ignore_index=True)"
   ]
  },
  {
   "cell_type": "code",
   "execution_count": null,
   "id": "513a3b2e-b278-4a0c-b530-a3265e1cab0e",
   "metadata": {
    "colab": {
     "base_uri": "https://localhost:8080/",
     "height": 0
    },
    "executionInfo": {
     "elapsed": 468,
     "status": "ok",
     "timestamp": 1746070510518,
     "user": {
      "displayName": "Zhuo Biao Cai",
      "userId": "01870707890598286277"
     },
     "user_tz": 240
    },
    "id": "513a3b2e-b278-4a0c-b530-a3265e1cab0e",
    "outputId": "652db217-75d9-4391-ab69-406a28c2912c"
   },
   "outputs": [],
   "source": [
    "schools_df.head()"
   ]
  },
  {
   "cell_type": "markdown",
   "id": "V1pfqD7dh7P_",
   "metadata": {
    "id": "V1pfqD7dh7P_"
   },
   "source": [
    "### Difference from Borough\n",
    "\n",
    "Calculate the differences between school proficiency rate and borough proficiency rate."
   ]
  },
  {
   "cell_type": "code",
   "execution_count": null,
   "id": "dXbebdOWh9es",
   "metadata": {
    "executionInfo": {
     "elapsed": 42721,
     "status": "ok",
     "timestamp": 1746070553238,
     "user": {
      "displayName": "Zhuo Biao Cai",
      "userId": "01870707890598286277"
     },
     "user_tz": 240
    },
    "id": "dXbebdOWh9es"
   },
   "outputs": [],
   "source": [
    "diff_from_boro = []\n",
    "no_boro_data_set = set()\n",
    "\n",
    "boro_codes = {\"M\" : \"MANHATTAN\", \"R\" : \"STATEN ISLAND\", \"K\" : \"BROOKLYN\", \"X\" : \"BRONX\", \"Q\" : \"QUEENS\"}\n",
    "\n",
    "boro_subset = boro_df[boro_df[\"level\"] == \"Proficient\"]\n",
    "\n",
    "for i in schools_df.index:\n",
    "\n",
    "    school_proficient_rate = schools_df.loc[i, \"percent_proficient\"]\n",
    "    cat = schools_df.loc[i, \"category\"]\n",
    "    year = schools_df.loc[i, \"year\"]\n",
    "    subject = schools_df.loc[i, \"subject\"]\n",
    "    grade = schools_df.loc[i, \"grade\"]\n",
    "    boro = boro_codes[schools_df.loc[i, \"dbn\"][2]]\n",
    "\n",
    "    try:\n",
    "        boro_proficient_rate = boro_subset[(boro_subset[\"category\"] == cat) & (boro_subset[\"year\"] == year) & (boro_subset[\"borough\"] == boro) & (boro_subset[\"subject\"] == subject) & (boro_subset[\"grade\"] == grade)][\"percent_level\"].values[0]\n",
    "        diff_from_boro.append(school_proficient_rate - boro_proficient_rate)\n",
    "    except IndexError:\n",
    "        no_boro_data_set.add((year, cat, boro, subject, grade))\n",
    "        diff_from_boro.append(np.nan)\n",
    "\n",
    "schools_df[\"diff_from_boro_percent_proficient\"] = diff_from_boro"
   ]
  },
  {
   "cell_type": "code",
   "execution_count": null,
   "id": "s8peRZDRj5FA",
   "metadata": {
    "colab": {
     "base_uri": "https://localhost:8080/"
    },
    "executionInfo": {
     "elapsed": 22,
     "status": "ok",
     "timestamp": 1746070553239,
     "user": {
      "displayName": "Zhuo Biao Cai",
      "userId": "01870707890598286277"
     },
     "user_tz": 240
    },
    "id": "s8peRZDRj5FA",
    "outputId": "d8a3d7a4-7702-4929-e989-66d21cff6ee6"
   },
   "outputs": [],
   "source": [
    "no_boro_data_set"
   ]
  },
  {
   "cell_type": "markdown",
   "id": "cf8964d4-93b7-4150-9302-e399ffe449f3",
   "metadata": {
    "id": "cf8964d4-93b7-4150-9302-e399ffe449f3"
   },
   "source": [
    "### Difference from District\n",
    "\n",
    "Calculate the differences between school proficiency rate and school district proficiency rate."
   ]
  },
  {
   "cell_type": "code",
   "execution_count": null,
   "id": "69ca190d-7d8d-472f-a2aa-b1dc1d4b48d4",
   "metadata": {
    "executionInfo": {
     "elapsed": 55097,
     "status": "ok",
     "timestamp": 1746070608324,
     "user": {
      "displayName": "Zhuo Biao Cai",
      "userId": "01870707890598286277"
     },
     "user_tz": 240
    },
    "id": "69ca190d-7d8d-472f-a2aa-b1dc1d4b48d4"
   },
   "outputs": [],
   "source": [
    "diff_from_district = []\n",
    "no_district_data_set = set()\n",
    "\n",
    "district_subset = districts_df[districts_df[\"level\"] == \"Proficient\"]\n",
    "\n",
    "for i in schools_df.index:\n",
    "\n",
    "    school_proficient_rate = schools_df.loc[i, \"percent_proficient\"]\n",
    "    cat = schools_df.loc[i, \"category\"]\n",
    "    year = schools_df.loc[i, \"year\"]\n",
    "    district = schools_df.loc[i, \"district\"]\n",
    "    subject = schools_df.loc[i, \"subject\"]\n",
    "    grade = schools_df.loc[i, \"grade\"]\n",
    "\n",
    "    try:\n",
    "        district_proficient_rate = district_subset[(district_subset[\"category\"] == cat) & (district_subset[\"year\"] == year) & (district_subset[\"district\"] == district) & (district_subset[\"subject\"] == subject) & (district_subset[\"grade\"] == grade)][\"percent_level\"].values[0]\n",
    "        diff_from_district.append(school_proficient_rate - district_proficient_rate)\n",
    "    except IndexError:\n",
    "        no_district_data_set.add((year, cat, district, subject, grade))\n",
    "        diff_from_district.append(np.nan)\n",
    "\n",
    "schools_df[\"diff_from_district_percent_proficient\"] = diff_from_district"
   ]
  },
  {
   "cell_type": "code",
   "execution_count": null,
   "id": "bce1a298-88c9-4e0a-b99d-80f3c6f7ec5e",
   "metadata": {
    "colab": {
     "base_uri": "https://localhost:8080/"
    },
    "executionInfo": {
     "elapsed": 18,
     "status": "ok",
     "timestamp": 1746070608325,
     "user": {
      "displayName": "Zhuo Biao Cai",
      "userId": "01870707890598286277"
     },
     "user_tz": 240
    },
    "id": "bce1a298-88c9-4e0a-b99d-80f3c6f7ec5e",
    "outputId": "6083215f-583f-4d56-d1e4-850d6b614174"
   },
   "outputs": [],
   "source": [
    "no_district_data_set"
   ]
  },
  {
   "cell_type": "code",
   "execution_count": null,
   "id": "7c3d28e6-4a99-45e6-bdf0-8e8499a49693",
   "metadata": {
    "colab": {
     "base_uri": "https://localhost:8080/",
     "height": 400
    },
    "executionInfo": {
     "elapsed": 77,
     "status": "ok",
     "timestamp": 1746070608402,
     "user": {
      "displayName": "Zhuo Biao Cai",
      "userId": "01870707890598286277"
     },
     "user_tz": 240
    },
    "id": "7c3d28e6-4a99-45e6-bdf0-8e8499a49693",
    "outputId": "773c7470-90f2-4559-95a3-4961eab4d9ff"
   },
   "outputs": [],
   "source": [
    "schools_df.head()"
   ]
  },
  {
   "cell_type": "code",
   "execution_count": null,
   "id": "Qoo6obJ2J_JW",
   "metadata": {
    "executionInfo": {
     "elapsed": 6187,
     "status": "ok",
     "timestamp": 1746070614590,
     "user": {
      "displayName": "Zhuo Biao Cai",
      "userId": "01870707890598286277"
     },
     "user_tz": 240
    },
    "id": "Qoo6obJ2J_JW"
   },
   "outputs": [],
   "source": [
    "# reformat the df so that num of levels and percent of levels are organized as rows\n",
    "new_format_dict = {\n",
    "    \"district\" : [],\n",
    "    \"dbn\" : [],\n",
    "    \"school_name\" : [],\n",
    "    \"year\" : [],\n",
    "    \"subject\" : [],\n",
    "    \"category\" : [],\n",
    "    \"grade\" : [],\n",
    "    \"level\" : [],\n",
    "    \"num_level\" : [],\n",
    "    \"percent_level\" : [],\n",
    "    \"diff_from_district_percent_proficient\" : [],\n",
    "    \"diff_from_boro_percent_proficient\" : []\n",
    "    }\n",
    "\n",
    "for i in schools_df.index:\n",
    "  district = schools_df.loc[i, \"district\"]\n",
    "  dbn = schools_df.loc[i, \"dbn\"]\n",
    "  school_name = schools_df.loc[i, \"school_name\"]\n",
    "  year = schools_df.loc[i, \"year\"]\n",
    "  subject = schools_df.loc[i, \"subject\"]\n",
    "  category = schools_df.loc[i, \"category\"]\n",
    "  grade = schools_df.loc[i, \"grade\"]\n",
    "  diff_from_district_percent_proficient = schools_df.loc[i, \"diff_from_district_percent_proficient\"]\n",
    "  diff_from_boro_percent_proficient = schools_df.loc[i, \"diff_from_boro_percent_proficient\"]\n",
    "\n",
    "  for lvl in [\"level_1\", \"level_2\", \"level_3\", \"level_4\", \"proficient\"]:\n",
    "\n",
    "    new_format_dict[\"district\"].append(district)\n",
    "    new_format_dict[\"dbn\"].append(dbn)\n",
    "    new_format_dict[\"school_name\"].append(school_name)\n",
    "    new_format_dict[\"year\"].append(year)\n",
    "    new_format_dict[\"subject\"].append(subject)\n",
    "    new_format_dict[\"category\"].append(category)\n",
    "    new_format_dict[\"grade\"].append(grade)\n",
    "    new_format_dict[\"diff_from_district_percent_proficient\"].append(diff_from_district_percent_proficient)\n",
    "    new_format_dict[\"diff_from_boro_percent_proficient\"].append(diff_from_boro_percent_proficient)\n",
    "    new_format_dict[\"level\"].append(\" \".join(lvl.capitalize().split(\"_\")))\n",
    "\n",
    "    for metric in [\"num\", \"percent\"]:\n",
    "\n",
    "      col = f\"{metric}_{lvl}\"\n",
    "      value = schools_df.loc[i, col]\n",
    "\n",
    "      if \"num\" in col:\n",
    "        new_format_dict[\"num_level\"].append(value)\n",
    "      else:\n",
    "        new_format_dict[\"percent_level\"].append(value)\n",
    "\n",
    "schools_df = pd.DataFrame(new_format_dict)"
   ]
  },
  {
   "cell_type": "code",
   "execution_count": null,
   "id": "8uBf5MzcS1vU",
   "metadata": {
    "executionInfo": {
     "elapsed": 45,
     "status": "ok",
     "timestamp": 1746070614640,
     "user": {
      "displayName": "Zhuo Biao Cai",
      "userId": "01870707890598286277"
     },
     "user_tz": 240
    },
    "id": "8uBf5MzcS1vU"
   },
   "outputs": [],
   "source": [
    "schools_df[\"id\"] = [i for i in range(schools_df.shape[0])]"
   ]
  },
  {
   "cell_type": "code",
   "execution_count": null,
   "id": "3oWi3NtFSo_9",
   "metadata": {
    "colab": {
     "base_uri": "https://localhost:8080/",
     "height": 730
    },
    "executionInfo": {
     "elapsed": 37,
     "status": "ok",
     "timestamp": 1746070614649,
     "user": {
      "displayName": "Zhuo Biao Cai",
      "userId": "01870707890598286277"
     },
     "user_tz": 240
    },
    "id": "3oWi3NtFSo_9",
    "outputId": "c846182d-5faa-4fb6-920f-973b5042717f"
   },
   "outputs": [],
   "source": [
    "schools_df.head(10)"
   ]
  },
  {
   "cell_type": "markdown",
   "id": "1d5bbab6-dbb6-4a77-8d63-7d90981d178d",
   "metadata": {
    "id": "1d5bbab6-dbb6-4a77-8d63-7d90981d178d"
   },
   "source": [
    "## Export"
   ]
  },
  {
   "cell_type": "code",
   "execution_count": null,
   "id": "34b6a63d-6662-4cb9-864c-dab7396c1daa",
   "metadata": {
    "executionInfo": {
     "elapsed": 2368,
     "status": "ok",
     "timestamp": 1746070617017,
     "user": {
      "displayName": "Zhuo Biao Cai",
      "userId": "01870707890598286277"
     },
     "user_tz": 240
    },
    "id": "34b6a63d-6662-4cb9-864c-dab7396c1daa"
   },
   "outputs": [],
   "source": [
    "schools_df.to_csv(\"FILEPATH\", index=False)"
   ]
  }
 ],
 "metadata": {
  "colab": {
   "provenance": []
  },
  "kernelspec": {
   "display_name": "Python 3 (ipykernel)",
   "language": "python",
   "name": "python3"
  },
  "language_info": {
   "codemirror_mode": {
    "name": "ipython",
    "version": 3
   },
   "file_extension": ".py",
   "mimetype": "text/x-python",
   "name": "python",
   "nbconvert_exporter": "python",
   "pygments_lexer": "ipython3",
   "version": "3.12.4"
  }
 },
 "nbformat": 4,
 "nbformat_minor": 5
}
